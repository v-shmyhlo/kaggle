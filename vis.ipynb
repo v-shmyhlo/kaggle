{
 "cells": [
  {
   "cell_type": "code",
   "execution_count": 28,
   "metadata": {},
   "outputs": [],
   "source": [
    "import torch\n",
    "import torch.nn as nn\n",
    "import numpy as np\n",
    "from lr_scheduler import OneCycleScheduler, LinearScheduler\n",
    "from torch.optim import Optimizer\n",
    "import matplotlib.pyplot as plt\n",
    "import math"
   ]
  },
  {
   "cell_type": "code",
   "execution_count": 2,
   "metadata": {},
   "outputs": [],
   "source": [
    "class CyclicLR(torch.optim.lr_scheduler._LRScheduler):\n",
    "    \"\"\"Sets the learning rate of each parameter group according to\n",
    "    cyclical learning rate policy (CLR). The policy cycles the learning\n",
    "    rate between two boundaries with a constant frequency, as detailed in\n",
    "    the paper `Cyclical Learning Rates for Training Neural Networks`_.\n",
    "    The distance between the two boundaries can be scaled on a per-iteration\n",
    "    or per-cycle basis.\n",
    "\n",
    "    Cyclical learning rate policy changes the learning rate after every batch.\n",
    "    `step` should be called after a batch has been used for training.\n",
    "\n",
    "    This class has three built-in policies, as put forth in the paper:\n",
    "    \"triangular\":\n",
    "        A basic triangular cycle w/ no amplitude scaling.\n",
    "    \"triangular2\":\n",
    "        A basic triangular cycle that scales initial amplitude by half each cycle.\n",
    "    \"exp_range\":\n",
    "        A cycle that scales initial amplitude by gamma**(cycle iterations) at each\n",
    "        cycle iteration.\n",
    "\n",
    "    This implementation was adapted from the github repo: `bckenstler/CLR`_\n",
    "\n",
    "    Args:\n",
    "        optimizer (Optimizer): Wrapped optimizer.\n",
    "        base_lr (float or list): Initial learning rate which is the\n",
    "            lower boundary in the cycle for each parameter group.\n",
    "        max_lr (float or list): Upper learning rate boundaries in the cycle\n",
    "            for each parameter group. Functionally,\n",
    "            it defines the cycle amplitude (max_lr - base_lr).\n",
    "            The lr at any cycle is the sum of base_lr\n",
    "            and some scaling of the amplitude; therefore\n",
    "            max_lr may not actually be reached depending on\n",
    "            scaling function.\n",
    "        step_size_up (int): Number of training iterations in the\n",
    "            increasing half of a cycle. Default: 2000\n",
    "        step_size_down (int): Number of training iterations in the\n",
    "            decreasing half of a cycle. If step_size_down is None,\n",
    "            it is set to step_size_up. Default: None\n",
    "        mode (str): One of {triangular, triangular2, exp_range}.\n",
    "            Values correspond to policies detailed above.\n",
    "            If scale_fn is not None, this argument is ignored.\n",
    "            Default: 'triangular'\n",
    "        gamma (float): Constant in 'exp_range' scaling function:\n",
    "            gamma**(cycle iterations)\n",
    "            Default: 1.0\n",
    "        scale_fn (function): Custom scaling policy defined by a single\n",
    "            argument lambda function, where\n",
    "            0 <= scale_fn(x) <= 1 for all x >= 0.\n",
    "            If specified, then 'mode' is ignored.\n",
    "            Default: None\n",
    "        scale_mode (str): {'cycle', 'iterations'}.\n",
    "            Defines whether scale_fn is evaluated on\n",
    "            cycle number or cycle iterations (training\n",
    "            iterations since start of cycle).\n",
    "            Default: 'cycle'\n",
    "        cycle_momentum (bool): If ``True``, momentum is cycled inversely\n",
    "            to learning rate between 'base_momentum' and 'max_momentum'.\n",
    "            Default: True\n",
    "        base_momentum (float or list): Initial momentum which is the\n",
    "            lower boundary in the cycle for each parameter group.\n",
    "            Default: 0.8\n",
    "        max_momentum (float or list): Upper momentum boundaries in the cycle\n",
    "            for each parameter group. Functionally,\n",
    "            it defines the cycle amplitude (max_momentum - base_momentum).\n",
    "            The momentum at any cycle is the difference of max_momentum\n",
    "            and some scaling of the amplitude; therefore\n",
    "            base_momentum may not actually be reached depending on\n",
    "            scaling function. Default: 0.9\n",
    "        last_epoch (int): The index of the last batch. This parameter is used when\n",
    "            resuming a training job. Since `step()` should be invoked after each\n",
    "            batch instead of after each epoch, this number represents the total\n",
    "            number of *batches* computed, not the total number of epochs computed.\n",
    "            When last_epoch=-1, the schedule is started from the beginning.\n",
    "            Default: -1\n",
    "\n",
    "    Example:\n",
    "        >>> optimizer = torch.optim.SGD(model.parameters(), lr=0.1, momentum=0.9)\n",
    "        >>> scheduler = torch.optim.CyclicLR(optimizer)\n",
    "        >>> data_loader = torch.utils.data.DataLoader(...)\n",
    "        >>> for epoch in range(10):\n",
    "        >>>     for batch in data_loader:\n",
    "        >>>         train_batch(...)\n",
    "        >>>         scheduler.step()\n",
    "\n",
    "\n",
    "    .. _Cyclical Learning Rates for Training Neural Networks: https://arxiv.org/abs/1506.01186\n",
    "    .. _bckenstler/CLR: https://github.com/bckenstler/CLR\n",
    "    \"\"\"\n",
    "\n",
    "    def __init__(self,\n",
    "                 optimizer,\n",
    "                 base_lr,\n",
    "                 max_lr,\n",
    "                 step_size_up=2000,\n",
    "                 step_size_down=None,\n",
    "                 mode='triangular',\n",
    "                 gamma=1.,\n",
    "                 scale_fn=None,\n",
    "                 scale_mode='cycle',\n",
    "                 cycle_momentum=True,\n",
    "                 base_momentum=0.8,\n",
    "                 max_momentum=0.9,\n",
    "                 last_epoch=-1):\n",
    "\n",
    "        if not isinstance(optimizer, Optimizer):\n",
    "            raise TypeError('{} is not an Optimizer'.format(\n",
    "                type(optimizer).__name__))\n",
    "        self.optimizer = optimizer\n",
    "\n",
    "        base_lrs = self._format_param('base_lr', optimizer, base_lr)\n",
    "        if last_epoch == -1:\n",
    "            for lr, group in zip(base_lrs, optimizer.param_groups):\n",
    "                group['lr'] = lr\n",
    "\n",
    "        self.max_lrs = self._format_param('max_lr', optimizer, max_lr)\n",
    "\n",
    "        step_size_up = float(step_size_up)\n",
    "        step_size_down = float(step_size_down) if step_size_down is not None else step_size_up\n",
    "        self.total_size = step_size_up + step_size_down\n",
    "        self.step_ratio = step_size_up / self.total_size\n",
    "\n",
    "        if mode not in ['triangular', 'triangular2', 'exp_range'] \\\n",
    "                and scale_fn is None:\n",
    "            raise ValueError('mode is invalid and scale_fn is None')\n",
    "\n",
    "        self.mode = mode\n",
    "        self.gamma = gamma\n",
    "\n",
    "        if scale_fn is None:\n",
    "            if self.mode == 'triangular':\n",
    "                self.scale_fn = self._triangular_scale_fn\n",
    "                self.scale_mode = 'cycle'\n",
    "            elif self.mode == 'triangular2':\n",
    "                self.scale_fn = self._triangular2_scale_fn\n",
    "                self.scale_mode = 'cycle'\n",
    "            elif self.mode == 'exp_range':\n",
    "                self.scale_fn = self._exp_range_scale_fn\n",
    "                self.scale_mode = 'iterations'\n",
    "        else:\n",
    "            self.scale_fn = scale_fn\n",
    "            self.scale_mode = scale_mode\n",
    "\n",
    "        self.cycle_momentum = cycle_momentum\n",
    "        if cycle_momentum:\n",
    "            if 'momentum' not in optimizer.defaults:\n",
    "                raise ValueError('optimizer must support momentum with `cycle_momentum` option enabled')\n",
    "\n",
    "            base_momentums = self._format_param('base_momentum', optimizer, base_momentum)\n",
    "            if last_epoch == -1:\n",
    "                for momentum, group in zip(base_momentums, optimizer.param_groups):\n",
    "                    group['momentum'] = momentum\n",
    "        self.base_momentums = list(map(lambda group: group['momentum'], optimizer.param_groups))\n",
    "        self.max_momentums = self._format_param('max_momentum', optimizer, max_momentum)\n",
    "\n",
    "        super(CyclicLR, self).__init__(optimizer, last_epoch)\n",
    "\n",
    "    def _format_param(self, name, optimizer, param):\n",
    "        \"\"\"Return correctly formatted lr/momentum for each param group.\"\"\"\n",
    "        if isinstance(param, (list, tuple)):\n",
    "            if len(param) != len(optimizer.param_groups):\n",
    "                raise ValueError(\"expected {} values for {}, got {}\".format(\n",
    "                    len(optimizer.param_groups), name, len(param)))\n",
    "            return param\n",
    "        else:\n",
    "            return [param] * len(optimizer.param_groups)\n",
    "\n",
    "    def _triangular_scale_fn(self, x):\n",
    "        return 1.\n",
    "\n",
    "    def _triangular2_scale_fn(self, x):\n",
    "        return 1 / (2. ** (x - 1))\n",
    "\n",
    "    def _exp_range_scale_fn(self, x):\n",
    "        return self.gamma**(x)\n",
    "\n",
    "    def get_lr(self):\n",
    "        \"\"\"Calculates the learning rate at batch index. This function treats\n",
    "        `self.last_epoch` as the last batch index.\n",
    "\n",
    "        If `self.cycle_momentum` is ``True``, this function has a side effect of\n",
    "        updating the optimizer's momentum.\n",
    "        \"\"\"\n",
    "        cycle = math.floor(1 + self.last_epoch / self.total_size)\n",
    "        x = 1. + self.last_epoch / self.total_size - cycle\n",
    "        if x <= self.step_ratio:\n",
    "            scale_factor = x / self.step_ratio\n",
    "        else:\n",
    "            scale_factor = (x - 1) / (self.step_ratio - 1)\n",
    "\n",
    "        lrs = []\n",
    "        for base_lr, max_lr in zip(self.base_lrs, self.max_lrs):\n",
    "            base_height = (max_lr - base_lr) * scale_factor\n",
    "            if self.scale_mode == 'cycle':\n",
    "                lr = base_lr + base_height * self.scale_fn(cycle)\n",
    "            else:\n",
    "                lr = base_lr + base_height * self.scale_fn(self.last_epoch)\n",
    "            lrs.append(lr)\n",
    "\n",
    "        if self.cycle_momentum:\n",
    "            momentums = []\n",
    "            for base_momentum, max_momentum in zip(self.base_momentums, self.max_momentums):\n",
    "                base_height = (max_momentum - base_momentum) * scale_factor\n",
    "                if self.scale_mode == 'cycle':\n",
    "                    momentum = max_momentum - base_height * self.scale_fn(cycle)\n",
    "                else:\n",
    "                    momentum = max_momentum - base_height * self.scale_fn(self.last_epoch)\n",
    "                momentums.append(momentum)\n",
    "            for param_group, momentum in zip(self.optimizer.param_groups, momentums):\n",
    "                param_group['momentum'] = momentum\n",
    "\n",
    "        return lrs"
   ]
  },
  {
   "cell_type": "code",
   "execution_count": 3,
   "metadata": {},
   "outputs": [],
   "source": [
    "model = nn.Linear(4, 4)\n",
    "LR = 1e-3"
   ]
  },
  {
   "cell_type": "code",
   "execution_count": 49,
   "metadata": {},
   "outputs": [
    {
     "name": "stdout",
     "output_type": "stream",
     "text": [
      "0\n"
     ]
    },
    {
     "data": {
      "image/png": "[encoded data removed]",
      "text/plain": [
       "<Figure size 432x288 with 1 Axes>"
      ]
     },
     "metadata": {},
     "output_type": "display_data"
    },
    {
     "name": "stdout",
     "output_type": "stream",
     "text": [
      "4e-05 2.0398000000000546e-07\n",
      "0\n",
      "[0.001] [0.001]\n",
      "0\n",
      "0.001 0.00195904\n",
      "1000\n",
      "0\n",
      "0.001 0.0009999383162408303\n",
      "[array(0.001), array(0.001), array(0.001), array(0.001)]\n",
      "[array(9.86635786e-07), array(2.46719817e-07), array(6.16837592e-08), array(1.54211776e-08)]\n",
      "1510\n"
     ]
    },
    {
     "data": {
      "image/png": "[encoded data removed]",
      "text/plain": [
       "<Figure size 432x288 with 1 Axes>"
      ]
     },
     "metadata": {},
     "output_type": "display_data"
    }
   ],
   "source": [
    "scheduler = OneCycleScheduler(\n",
    "    optimizer,\n",
    "    lr=(LR / 25, LR),\n",
    "    beta=(0.95, 0.85),\n",
    "    max_steps=1000,\n",
    "    annealing='linear')\n",
    "print(scheduler.last_epoch)\n",
    "\n",
    "lrs = []\n",
    "bs = []\n",
    "for _ in range(1000):\n",
    "    lr = scheduler.get_lr()\n",
    "    b = scheduler.get_beta()\n",
    "    scheduler.step()\n",
    "    \n",
    "    lrs.append(lr)  \n",
    "    bs.append(b)\n",
    "plt.plot(bs)\n",
    "plt.show()\n",
    "plt.plot(lrs)\n",
    "print(lrs[0], lrs[-1])\n",
    "\n",
    "scheduler = CyclicLR(\n",
    "    optimizer, \n",
    "    LR / 25, \n",
    "    LR, \n",
    "    step_size_up=300, \n",
    "    step_size_down=700, \n",
    "    mode='triangular', \n",
    "    gamma=1.)\n",
    "print(scheduler.last_epoch)\n",
    "\n",
    "lrs = []\n",
    "for _ in range(1000):\n",
    "    lr = scheduler.get_lr()\n",
    "    scheduler.step()\n",
    "    \n",
    "    lrs.append(lr)    \n",
    "plt.plot(lrs)\n",
    "print(lrs[0], lrs[-1])\n",
    "\n",
    "scheduler = LinearScheduler(\n",
    "    optimizer, \n",
    "    (LR - LR / 25) / 1000)\n",
    "print(scheduler.last_epoch)\n",
    "\n",
    "lrs = []\n",
    "for _ in range(1000):\n",
    "    lr = scheduler.get_lr()\n",
    "    scheduler.step()\n",
    "    \n",
    "    lrs.append(lr)    \n",
    "plt.plot(lrs)\n",
    "print(lrs[0], lrs[-1])\n",
    "print(scheduler.last_epoch)\n",
    "\n",
    "optimizer = torch.optim.SGD(model.parameters(), LR, momentum=0.9)\n",
    "scheduler = torch.optim.lr_scheduler.CosineAnnealingWarmRestarts(optimizer, 100, 2)\n",
    "print(scheduler.last_epoch)\n",
    "\n",
    "lrs = []\n",
    "for _ in range(1510):\n",
    "    lr = np.squeeze([g['lr'] for g in optimizer.param_groups])\n",
    "#     lr = scheduler.get_lr()\n",
    "    scheduler.step()\n",
    "    \n",
    "    lrs.append(lr)    \n",
    "plt.plot(lrs)\n",
    "print(lrs[0], lrs[-1])\n",
    "print([lrs[i * 100 + 1] for i in [1, 3, 7, 15]])\n",
    "print([lrs[i * 100 - 1] for i in [1, 3, 7, 15]])\n",
    "print(scheduler.last_epoch)"
   ]
  },
  {
   "cell_type": "code",
   "execution_count": 30,
   "metadata": {},
   "outputs": [
    {
     "name": "stdout",
     "output_type": "stream",
     "text": [
      "1.1.0\n"
     ]
    }
   ],
   "source": [
    "print(torch.__version__)"
   ]
  },
  {
   "cell_type": "code",
   "execution_count": null,
   "metadata": {},
   "outputs": [],
   "source": []
  },
  {
   "cell_type": "code",
   "execution_count": null,
   "metadata": {},
   "outputs": [],
   "source": []
  },
  {
   "cell_type": "code",
   "execution_count": 11,
   "metadata": {},
   "outputs": [
    {
     "data": {
      "image/png": "[encoded data removed]",
      "text/plain": [
       "<Figure size 432x288 with 1 Axes>"
      ]
     },
     "metadata": {},
     "output_type": "display_data"
    },
    {
     "data": {
      "image/png": "[encoded data removed]",
      "text/plain": [
       "<Figure size 432x288 with 1 Axes>"
      ]
     },
     "metadata": {},
     "output_type": "display_data"
    },
    {
     "data": {
      "image/png": "[encoded data removed]",
      "text/plain": [
       "<Figure size 432x288 with 1 Axes>"
      ]
     },
     "metadata": {},
     "output_type": "display_data"
    },
    {
     "data": {
      "image/png": "[encoded data removed]",
      "text/plain": [
       "<Figure size 432x288 with 1 Axes>"
      ]
     },
     "metadata": {},
     "output_type": "display_data"
    },
    {
     "data": {
      "image/png": "[encoded data removed]",
      "text/plain": [
       "<Figure size 432x288 with 1 Axes>"
      ]
     },
     "metadata": {},
     "output_type": "display_data"
    },
    {
     "data": {
      "image/png": "[encoded data removed]",
      "text/plain": [
       "<Figure size 432x288 with 1 Axes>"
      ]
     },
     "metadata": {},
     "output_type": "display_data"
    },
    {
     "data": {
      "image/png": "[encoded data removed]",
      "text/plain": [
       "<Figure size 432x288 with 1 Axes>"
      ]
     },
     "metadata": {},
     "output_type": "display_data"
    },
    {
     "data": {
      "image/png": "[encoded data removed]",
      "text/plain": [
       "<Figure size 432x288 with 1 Axes>"
      ]
     },
     "metadata": {},
     "output_type": "display_data"
    },
    {
     "data": {
      "image/png": "[encoded data removed]",
      "text/plain": [
       "<Figure size 432x288 with 1 Axes>"
      ]
     },
     "metadata": {},
     "output_type": "display_data"
    },
    {
     "data": {
      "image/png": "[encoded data removed]",
      "text/plain": [
       "<Figure size 432x288 with 1 Axes>"
      ]
     },
     "metadata": {},
     "output_type": "display_data"
    }
   ],
   "source": [
    "from PIL import Image\n",
    "import torchvision.transforms as T\n",
    "import numpy as np\n",
    "import matplotlib.pyplot as plt\n",
    "\n",
    "image = np.zeros((100, 100, 3), dtype=np.uint8)\n",
    "image[:50, :50] = (255, 0, 0)\n",
    "image[:50, 50:] = (0, 255, 0)\n",
    "image[50:, :50] = (0, 0, 255)\n",
    "\n",
    "image = Image.fromarray(image)\n",
    "\n",
    "crops = T.TenCrop(80)(image)\n",
    "\n",
    "for crop in crops:\n",
    "    plt.imshow(crop)\n",
    "    plt.show()"
   ]
  },
  {
   "cell_type": "code",
   "execution_count": null,
   "metadata": {},
   "outputs": [],
   "source": []
  }
 ],
 "metadata": {
  "kernelspec": {
   "display_name": "Python 3",
   "language": "python",
   "name": "python3"
  },
  "language_info": {
   "codemirror_mode": {
    "name": "ipython",
    "version": 3
   },
   "file_extension": ".py",
   "mimetype": "text/x-python",
   "name": "python",
   "nbconvert_exporter": "python",
   "pygments_lexer": "ipython3",
   "version": "3.6.4"
  }
 },
 "nbformat": 4,
 "nbformat_minor": 2
}
